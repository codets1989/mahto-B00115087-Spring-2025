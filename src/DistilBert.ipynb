{
 "cells": [
  {
   "cell_type": "code",
   "execution_count": 1,
   "id": "3b0d90f9-b110-4b17-99a6-dec8a73dd05d",
   "metadata": {},
   "outputs": [
    {
     "data": {
      "application/vnd.jupyter.widget-view+json": {
       "model_id": "de4a9d383a2a40b5815339e497bc5135",
       "version_major": 2,
       "version_minor": 0
      },
      "text/plain": [
       "Map:   0%|          | 0/755 [00:00<?, ? examples/s]"
      ]
     },
     "metadata": {},
     "output_type": "display_data"
    },
    {
     "data": {
      "application/vnd.jupyter.widget-view+json": {
       "model_id": "77c0461b977242dcbe614f69b6889c7e",
       "version_major": 2,
       "version_minor": 0
      },
      "text/plain": [
       "Map:   0%|          | 0/748 [00:00<?, ? examples/s]"
      ]
     },
     "metadata": {},
     "output_type": "display_data"
    }
   ],
   "source": [
    "from datasets import load_dataset\n",
    "from transformers import DistilBertTokenizer, DistilBertForTokenClassification\n",
    "import torch\n",
    "\n",
    "\n",
    "dataset = load_dataset(\"jfleg\")\n",
    "\n",
    "tokenizer = DistilBertTokenizer.from_pretrained(\"distilbert-base-uncased\")\n",
    "\n",
    "def preprocess_function(examples):\n",
    "    input_ids_list = []\n",
    "    attention_mask_list = []\n",
    "    labels_list = []\n",
    "    \n",
    "    for sentence, corrections in zip(examples[\"sentence\"], examples[\"corrections\"]):\n",
    "        corrected_sentence = corrections[0] \n",
    "        \n",
    "     \n",
    "        tokenized_sentence = tokenizer(sentence, padding=\"max_length\", truncation=True)\n",
    "        tokenized_corrected = tokenizer(corrected_sentence, padding=\"max_length\", truncation=True)\n",
    "        \n",
    "        input_ids = tokenized_sentence[\"input_ids\"]\n",
    "        corrected_ids = tokenized_corrected[\"input_ids\"]\n",
    "        attention_mask = tokenized_sentence[\"attention_mask\"]\n",
    "\n",
    "      \n",
    "        token_labels = [0] * len(input_ids)  \n",
    "        for i in range(len(input_ids)):\n",
    "            if i < len(corrected_ids) and input_ids[i] != corrected_ids[i]:\n",
    "                token_labels[i] = 1 \n",
    "        input_ids_list.append(input_ids)\n",
    "        attention_mask_list.append(attention_mask)\n",
    "        labels_list.append(token_labels)\n",
    "\n",
    "    return {\"input_ids\": input_ids_list, \"attention_mask\": attention_mask_list, \"labels\": labels_list}\n",
    "\n",
    "\n",
    "tokenized_dataset = dataset.map(preprocess_function, batched=True)\n",
    "\n",
    "\n",
    "tokenized_dataset.set_format(type=\"torch\", columns=[\"input_ids\", \"attention_mask\", \"labels\"])\n"
   ]
  },
  {
   "cell_type": "code",
   "execution_count": 7,
   "id": "fa30180d-0509-4be8-8216-77f6627c8ad8",
   "metadata": {},
   "outputs": [
    {
     "name": "stderr",
     "output_type": "stream",
     "text": [
      "C:\\Users\\ankit\\AppData\\Local\\Temp\\ipykernel_23440\\666289537.py:19: FutureWarning: `tokenizer` is deprecated and will be removed in version 5.0.0 for `Trainer.__init__`. Use `processing_class` instead.\n",
      "  trainer = Trainer(\n"
     ]
    },
    {
     "data": {
      "text/html": [
       "\n",
       "    <div>\n",
       "      \n",
       "      <progress value='285' max='285' style='width:300px; height:20px; vertical-align: middle;'></progress>\n",
       "      [285/285 1:10:38, Epoch 3/3]\n",
       "    </div>\n",
       "    <table border=\"1\" class=\"dataframe\">\n",
       "  <thead>\n",
       " <tr style=\"text-align: left;\">\n",
       "      <th>Epoch</th>\n",
       "      <th>Training Loss</th>\n",
       "      <th>Validation Loss</th>\n",
       "    </tr>\n",
       "  </thead>\n",
       "  <tbody>\n",
       "    <tr>\n",
       "      <td>1</td>\n",
       "      <td>0.032100</td>\n",
       "      <td>0.027832</td>\n",
       "    </tr>\n",
       "    <tr>\n",
       "      <td>2</td>\n",
       "      <td>0.026600</td>\n",
       "      <td>0.026523</td>\n",
       "    </tr>\n",
       "    <tr>\n",
       "      <td>3</td>\n",
       "      <td>0.019400</td>\n",
       "      <td>0.026264</td>\n",
       "    </tr>\n",
       "  </tbody>\n",
       "</table><p>"
      ],
      "text/plain": [
       "<IPython.core.display.HTML object>"
      ]
     },
     "metadata": {},
     "output_type": "display_data"
    },
    {
     "data": {
      "text/plain": [
       "TrainOutput(global_step=285, training_loss=0.0328986920808491, metrics={'train_runtime': 4252.2025, 'train_samples_per_second': 0.533, 'train_steps_per_second': 0.067, 'total_flos': 295929271572480.0, 'train_loss': 0.0328986920808491, 'epoch': 3.0})"
      ]
     },
     "execution_count": 7,
     "metadata": {},
     "output_type": "execute_result"
    }
   ],
   "source": [
    "from transformers import Trainer, TrainingArguments\n",
    "\n",
    "\n",
    "training_args = TrainingArguments(\n",
    "    output_dir=\"./distilbert-grammar-correction\",\n",
    "    eval_strategy=\"epoch\",\n",
    "    learning_rate=5e-5,\n",
    "    per_device_train_batch_size=8,\n",
    "    per_device_eval_batch_size=8,\n",
    "    num_train_epochs=3,\n",
    "    weight_decay=0.01,\n",
    "    save_strategy=\"epoch\",\n",
    "    logging_dir=\"./logs\",\n",
    "    logging_steps=10,\n",
    "    push_to_hub=False\n",
    ")\n",
    "\n",
    "\n",
    "trainer = Trainer(\n",
    "    model=model,\n",
    "    args=training_args,\n",
    "    train_dataset=tokenized_dataset[\"validation\"],\n",
    "    eval_dataset=tokenized_dataset[\"test\"],\n",
    "    tokenizer=tokenizer\n",
    ")\n",
    "\n",
    "\n",
    "trainer.train()"
   ]
  },
  {
   "cell_type": "code",
   "execution_count": 6,
   "id": "520da06c-1562-4d83-bd8f-3a1981124a0e",
   "metadata": {},
   "outputs": [
    {
     "name": "stdout",
     "output_type": "stream",
     "text": [
      "Input: She are right.\n",
      "Classification: Incorrect (errors in: are, right)\n"
     ]
    }
   ],
   "source": [
    "from transformers import DistilBertForTokenClassification, DistilBertTokenizer\n",
    "\n",
    "model_path = \"./distilbert-grammar-correction\"\n",
    "model = DistilBertForTokenClassification.from_pretrained(model_path)\n",
    "tokenizer = DistilBertTokenizer.from_pretrained(model_path)\n",
    "\n",
    "\n",
    "def classify_grammar(text):\n",
    "    inputs = tokenizer(text, return_tensors=\"pt\", truncation=True)\n",
    "    outputs = model(**inputs)\n",
    "    \n",
    "    predictions = outputs.logits.argmax(dim=-1).squeeze().tolist()  # Get token-level predictions\n",
    "    tokens = tokenizer.convert_ids_to_tokens(inputs[\"input_ids\"].squeeze())\n",
    "\n",
    "    incorrect_tokens = [tokens[i] for i in range(len(tokens)) if predictions[i] == 1]\n",
    "\n",
    "    if incorrect_tokens:\n",
    "        return f\"Incorrect (errors in: {', '.join(incorrect_tokens)})\"\n",
    "    else:\n",
    "        return \"Correct\"\n",
    "\n",
    "\n",
    "input_sentence = \"She are right.\"\n",
    "classification = classify_grammar(input_sentence)\n",
    "print(f\"Input: {input_sentence}\")\n",
    "print(f\"Classification: {classification}\")\n"
   ]
  },
  {
   "cell_type": "code",
   "execution_count": null,
   "id": "34b30255-f472-4d6e-a382-5ac6953d08fc",
   "metadata": {},
   "outputs": [],
   "source": []
  }
 ],
 "metadata": {
  "kernelspec": {
   "display_name": "Python 3 (ipykernel)",
   "language": "python",
   "name": "python3"
  },
  "language_info": {
   "codemirror_mode": {
    "name": "ipython",
    "version": 3
   },
   "file_extension": ".py",
   "mimetype": "text/x-python",
   "name": "python",
   "nbconvert_exporter": "python",
   "pygments_lexer": "ipython3",
   "version": "3.12.2"
  }
 },
 "nbformat": 4,
 "nbformat_minor": 5
}
