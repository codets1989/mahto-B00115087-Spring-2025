{
 "cells": [
  {
   "cell_type": "code",
   "execution_count": 1,
   "id": "cad839b5-4f66-4e56-b40b-eb927357b595",
   "metadata": {},
   "outputs": [
    {
     "name": "stdout",
     "output_type": "stream",
     "text": [
      "2\n"
     ]
    }
   ],
   "source": [
    "b = \"banana\"\n",
    "c=0\n",
    "for i in b:\n",
    "    if (i == \"n\"):\n",
    "        c = c + 1\n",
    "print(c)        "
   ]
  },
  {
   "cell_type": "code",
   "execution_count": null,
   "id": "dcf123af-c957-4966-af33-cfd2e4ab6d59",
   "metadata": {},
   "outputs": [],
   "source": []
  }
 ],
 "metadata": {
  "kernelspec": {
   "display_name": "Python 3 (ipykernel)",
   "language": "python",
   "name": "python3"
  },
  "language_info": {
   "codemirror_mode": {
    "name": "ipython",
    "version": 3
   },
   "file_extension": ".py",
   "mimetype": "text/x-python",
   "name": "python",
   "nbconvert_exporter": "python",
   "pygments_lexer": "ipython3",
   "version": "3.12.2"
  }
 },
 "nbformat": 4,
 "nbformat_minor": 5
}
